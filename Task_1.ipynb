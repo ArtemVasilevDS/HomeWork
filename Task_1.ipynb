{
 "cells": [
  {
   "cell_type": "markdown",
   "metadata": {},
   "source": [
    "# Task  1.1,                                                                        Vasilyev Arteom, 192\n"
   ]
  },
  {
   "cell_type": "markdown",
   "metadata": {},
   "source": [
    "    Одно из ключевых понятий Python – последовательности. Каждый элемент последовательности пронумерован, нумерация начинается с 0. В Python всего 6 видов последовательностей, два из которых: tuples, lists.\n",
    "    List – наиболее универсальный способ упорядочить данные, которые записываются через запятые в квадратных скобках. Важно знать, что элементы списка необязательно должны быть одного и того же типа. Над списками можно проводить ряд операций: удалять из списка элемент, добавлять новый элемент, проверять элемент на наличие в списке и т.д.\n",
    "    Tuple так же, как и list – последовательность данных, ключевым отличием которого является неизменяемость, что позволяет набор данных от как намеренных, так и случайных изменений. Стоит также отметить, что занимает меньше памяти нежели список.\n",
    "    Ввиду того, что элементы set и ключи dict должны быть неизменяемыми, то в качестве них может выступать tuple, но никак не list (так как он не hashable).\n",
    "    Dict в Python – ассоциативный массив, то есть хранит данные в виде неупорядоченных пар (ключ, значение). Соответственно dict реализован в виде хэш-таблицы. При написании dict для учета коллизий ключей использовался метод открытой адресации взамен метода цепочек ввиду того, что он позволяет сэкономить память на хранение указателей, которые используются в хэш-таблицах с цепочками. \n",
    "    Range() создает список целых чисел, то есть это итератор, а xrange() – генератор, у которого есть метод по созданию объекта xrange, принципиальные преимущества xrange() над range() заключаются в том, что на больших объемах данных xrange() не нужно создавать список и занимать очень много памяти. В версии 3.х range() ведет себя почти как xrange() во второй версии Python, а функция xrange() убрана вовсе.\n",
    "    List comprehension – генератор списков, служит для более упрощенный обработки списков, к которой можно отнести как создание новых списков, так и модификацию текущих. Запись производится в квадратных скобках, сначала стоит выражение, задающее элементы списка, после чего цикл, который изменяет его, можно также добавлять уловный оператор для фильтрации данных.\n",
    "    Map() –  функция, принимающая на вход список данных и функцию, которая применяется в последствии к каждому элемента списка, функция map(lambda x: …, list) возвращает список.\n",
    "    Reduce() -  функция, принимающая на вход список, и значение параметра, и функцию, принимающую в качестве аргументов элемент списка и сам параметр, после чего reduce() применяет переданную ей функцию к первому элементу списка и параметру. Значение в результате записывается в параметр, на следующем шаге повторяется вся та же операция только уже со вторым элементом списка и уже обновленным перезаписанным параметром.\n"
   ]
  },
  {
   "cell_type": "markdown",
   "metadata": {},
   "source": [
    "# Task 1.2"
   ]
  },
  {
   "cell_type": "code",
   "execution_count": 6,
   "metadata": {
    "collapsed": false
   },
   "outputs": [
    {
     "name": "stdout",
     "output_type": "stream",
     "text": [
      "The depth of recursion must be less\n",
      "The maximum depth of recursion is 1500\n"
     ]
    }
   ],
   "source": [
    "import sys\n",
    "\n",
    "fib = lambda n: fib(n-1) + fib(n-2) if n > 2 else 1\n",
    "\n",
    "try:\n",
    "    fib(2000)\n",
    "except RuntimeError:\n",
    "    print \"The depth of recursion must be less\"\n",
    "\n",
    "print \"The maximum depth of recursion is\", sys.getrecursionlimit()"
   ]
  },
  {
   "cell_type": "code",
   "execution_count": 7,
   "metadata": {
    "collapsed": false
   },
   "outputs": [
    {
     "name": "stdout",
     "output_type": "stream",
     "text": [
      "We set a new value of the depth of recursion that equils to 1500\n"
     ]
    }
   ],
   "source": [
    "import sys\n",
    "\n",
    "sys.setrecursionlimit(1500)\n",
    "print \"We set a new value of the depth of a recursion that equils to\", sys.getrecursionlimit()"
   ]
  },
  {
   "cell_type": "markdown",
   "metadata": {},
   "source": [
    "# Task 1.3"
   ]
  },
  {
   "cell_type": "code",
   "execution_count": 48,
   "metadata": {
    "collapsed": false
   },
   "outputs": [
    {
     "name": "stdout",
     "output_type": "stream",
     "text": [
      "Wall time: 2.46 s\n",
      "The function has worked for 2.5697467479 s.\n"
     ]
    }
   ],
   "source": [
    "import sys\n",
    "from timeit import default_timer as timer\n",
    "\n",
    "fib = lambda n: fib(n-1) + fib(n-2) if n > 2 else 1\n",
    "\n",
    "start_time = timer()\n",
    "fib(35)\n",
    "end_time = timer()\n",
    "\n",
    "% time fib(35) # the another way to measure a wall time\n",
    "\n",
    "print \"The function has worked for\",end_time - start_time,\"s.\""
   ]
  },
  {
   "cell_type": "markdown",
   "metadata": {},
   "source": [
    "# Tasks 1.4 and 1.5\n",
    "\n"
   ]
  },
  {
   "cell_type": "code",
   "execution_count": 6,
   "metadata": {
    "collapsed": false
   },
   "outputs": [
    {
     "name": "stdout",
     "output_type": "stream",
     "text": [
      "('The module   =', 1.4142135623730951, '\\nThe argument =', 0.7853981633974483)\n",
      "Trying:\n",
      "    module(z)\n",
      "Expecting:\n",
      "    1.4142135623730951\n",
      "ok\n",
      "3 items had no tests:\n",
      "    __main__.fib\n",
      "    __main__.module\n",
      "    __main__.timingfunc\n",
      "1 items passed all tests:\n",
      "   1 tests in __main__\n",
      "1 tests in 4 items.\n",
      "1 passed and 0 failed.\n",
      "Test passed.\n"
     ]
    }
   ],
   "source": [
    "import cmath\n",
    "module = lambda z: (z.real**2 + z.imag**2)**0.5\n",
    "\"\"\"\n",
    "Test\n",
    "\n",
    ">>> module(z)\n",
    "1.4142135623730951\n",
    "\n",
    "\"\"\"\n",
    "z = complex(1,1)\n",
    "print (\"The module   =\", module(z), \"\\nThe argument =\", cmath.phase(z))\n",
    "\n",
    "if __name__ in (\"__main__\", \"__console__\"): \n",
    "    import doctest \n",
    "    doctest.testmod(verbose=True)\n",
    "# the type of returned values is float"
   ]
  },
  {
   "cell_type": "markdown",
   "metadata": {},
   "source": [
    "# Tasks 1.6 - 1.9\n",
    "\n"
   ]
  },
  {
   "cell_type": "code",
   "execution_count": 14,
   "metadata": {
    "collapsed": false
   },
   "outputs": [
    {
     "name": "stdout",
     "output_type": "stream",
     "text": [
      "The real part = -1 \n",
      "The imagine part = 0 \n",
      "The module = 1.0 \n",
      "The argument = 3.14159265359\n",
      "-1\n",
      "0 + 2*i\n"
     ]
    }
   ],
   "source": [
    "from __future__ import print_function\n",
    "import math\n",
    "\n",
    "class Cmplx:\n",
    "    module = 0\n",
    "    def __init__(self, realPart, imagPart): # __init__ is called automatically when we create an object, it's constructor\n",
    "        self.real   = realPart\n",
    "        self.imag   = imagPart        \n",
    "    \n",
    "    @property\n",
    "    def real(self):\n",
    "        return self.real\n",
    "    \n",
    "    @real.setter\n",
    "    def real(self, real):\n",
    "        self.real = real\n",
    "        \n",
    "    @property\n",
    "    def imag(self):\n",
    "        return self.imag\n",
    "    \n",
    "    @imag.setter\n",
    "    def imag(self, imag):\n",
    "        self.imag = imag\n",
    "            \n",
    "        \n",
    "    def __add__(self, other):               # here __add__ creates a new complex number\n",
    "        return Cmplx(self.real + other.real, self.imag + other.imag)\n",
    "    \n",
    "    def __sub__(self, other):\n",
    "        return Cmplx(self.real - other.real, self.imag - other.imag)\n",
    "    \n",
    "    def module(self):\n",
    "        self.module_ = (self.real**2 + self.imag**2)**0.5\n",
    "        return self.module_\n",
    "    \n",
    "    def argument(self):\n",
    "        if self.real > 0:\n",
    "            return math.atan(self.imag/self.real)\n",
    "        elif self.real < 0:\n",
    "            if self.imag >= 0:\n",
    "                return math.pi + math.atan(self.imag/self.real)\n",
    "            else:\n",
    "                return -math.pi + math.atan(self.imag/self.real)\n",
    "        else:\n",
    "            if self.imag > 0:\n",
    "                return math.pi/2\n",
    "            elif self.imag < 0:\n",
    "                return -math.pi/2\n",
    "            else:\n",
    "                return None  \n",
    "        \n",
    "    def printNum(self):\n",
    "        if self.imag > 0:\n",
    "            print (self.real, \" + \", self.imag, \"*i\", sep = \"\")\n",
    "        elif self.imag < 0:\n",
    "            print (self.real, \" - \", abs(self.imag), \"*i\", sep = \"\")\n",
    "        else:\n",
    "            print (self.real)\n",
    "        \n",
    "z = Cmplx(-1,0)\n",
    "\n",
    "print (\"The real part =\", z.real,\"\\nThe imagine part =\", z.imag ,\"\\nThe module =\", z.module(),\"\\nThe argument =\", z.argument())\n",
    "z.printNum()\n",
    "\n",
    "x = Cmplx(1,2)\n",
    "y = z.__add__(x)\n",
    "\n",
    "y.printNum()\n",
    "\n"
   ]
  },
  {
   "cell_type": "code",
   "execution_count": 3,
   "metadata": {
    "collapsed": false
   },
   "outputs": [
    {
     "name": "stdout",
     "output_type": "stream",
     "text": [
      "The time of funcrion completing is  0.0\n",
      "The time of funcrion completing is  0.0\n",
      "The time of funcrion completing is  0.0\n",
      "The time of funcrion completing is  0.0\n",
      "The time of funcrion completing is  0.000999927520752\n",
      "The time of funcrion completing is  0.0\n",
      "The time of funcrion completing is  0.0\n",
      "The time of funcrion completing is  0.0\n",
      "The time of funcrion completing is  0.000999927520752\n"
     ]
    },
    {
     "data": {
      "text/plain": [
       "5"
      ]
     },
     "execution_count": 3,
     "metadata": {},
     "output_type": "execute_result"
    }
   ],
   "source": [
    "from timeit import default_timer as timer\n",
    "import time\n",
    "\n",
    "def timingfunc(func):\n",
    "    def timing(*args, **kwargs):\n",
    "        start_time = time.time()\n",
    "        result = func(*args,**kwargs) \n",
    "        end_time = time.time()\n",
    "        \n",
    "        print \"The time of funcrion completing is \", end_time - start_time\n",
    "        return result\n",
    "    return timing\n",
    "\n",
    "@timingfunc\n",
    "def fib(n):\n",
    "    return fib(n-1) + fib(n-2) if n > 2 else 1\n",
    "\n",
    "fib(5)"
   ]
  },
  {
   "cell_type": "code",
   "execution_count": 3,
   "metadata": {
    "collapsed": false
   },
   "outputs": [
    {
     "data": {
      "text/plain": [
       "5"
      ]
     },
     "execution_count": 3,
     "metadata": {},
     "output_type": "execute_result"
    }
   ],
   "source": [
    "def memorize(f):\n",
    "    cache = {}\n",
    "    def memoized(*args):\n",
    "        try:\n",
    "            return cache[args]\n",
    "        except KeyError:\n",
    "            result = cache[args] = f(*args)\n",
    "        return result\n",
    "    return memoized\n",
    "\n",
    "@memorize\n",
    "def fib(n):\n",
    "    return fib(n-1) + fib(n-2) if n > 2 else 1\n",
    "\n",
    "fib(5)"
   ]
  },
  {
   "cell_type": "code",
   "execution_count": null,
   "metadata": {
    "collapsed": true
   },
   "outputs": [],
   "source": []
  }
 ],
 "metadata": {
  "kernelspec": {
   "display_name": "Python 2",
   "language": "python",
   "name": "python2"
  },
  "language_info": {
   "codemirror_mode": {
    "name": "ipython",
    "version": 2
   },
   "file_extension": ".py",
   "mimetype": "text/x-python",
   "name": "python",
   "nbconvert_exporter": "python",
   "pygments_lexer": "ipython2",
   "version": "2.7.11"
  }
 },
 "nbformat": 4,
 "nbformat_minor": 0
}
